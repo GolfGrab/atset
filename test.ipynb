{
 "cells": [
  {
   "cell_type": "code",
   "execution_count": null,
   "metadata": {},
   "outputs": [],
   "source": [
    "import pandas as pd\n",
    "import datetime as dt\n",
    "import yfinance as yf\n",
    "import json\n",
    "from stockstats import wrap \n",
    "import os\n",
    "\n"
   ]
  },
  {
   "cell_type": "markdown",
   "metadata": {},
   "source": [
    "# get watch_list"
   ]
  },
  {
   "cell_type": "code",
   "execution_count": null,
   "metadata": {},
   "outputs": [],
   "source": [
    "with open('watch_list.json') as f:\n",
    "    watch_list = json.load(f)"
   ]
  },
  {
   "cell_type": "markdown",
   "metadata": {},
   "source": [
    "# fetch data from yfinance api"
   ]
  },
  {
   "cell_type": "code",
   "execution_count": null,
   "metadata": {},
   "outputs": [],
   "source": [
    "#create stock_data directory if it doesn't exist\n",
    "if not os.path.exists('stock_data'):\n",
    "    os.makedirs('stock_data')\n",
    "for symbol in watch_list:\n",
    "    tk = yf.Ticker(f\"{symbol}.BK\")\n",
    "    df = tk.history(period='3mo', interval='1d')\n",
    "    df.to_csv(f\"stock_data/{symbol}.csv\")\n",
    "\n",
    "\n"
   ]
  },
  {
   "cell_type": "markdown",
   "metadata": {},
   "source": [
    "# apply indicator to data"
   ]
  },
  {
   "cell_type": "code",
   "execution_count": null,
   "metadata": {},
   "outputs": [],
   "source": [
    "#create stock_data_with_indicator directory if it doesn't exist\n",
    "if not os.path.exists('stock_data_with_indicator'):\n",
    "    os.makedirs('stock_data_with_indicator')\n",
    "for symbol in watch_list:\n",
    "    df = pd.read_csv(f\"stock_data\\{symbol}.csv\")\n",
    "    df_ta = wrap(df)\n",
    "    df_ta.init_all()\n",
    "    df.to_csv(f\"stock_data_with_indicator\\{symbol}.csv\")"
   ]
  },
  {
   "cell_type": "markdown",
   "metadata": {},
   "source": [
    "# show result with plotly and save result to file"
   ]
  },
  {
   "cell_type": "code",
   "execution_count": null,
   "metadata": {},
   "outputs": [],
   "source": [
    "import random\n",
    "import plotly.graph_objects as go\n",
    "from tradingview_ta import TA_Handler, Interval\n",
    "import tradingview_ta\n",
    "\n",
    "symbol = random.choice(watch_list)\n",
    "handler = TA_Handler(\n",
    "    symbol=symbol,\n",
    "    exchange=\"SET\",\n",
    "    screener=\"thailand\",\n",
    "    interval=Interval.INTERVAL_1_DAY,\n",
    "    timeout=None\n",
    ")\n",
    "df = pd.read_csv(f\"stock_data_with_indicator\\{symbol}.csv\")\n",
    "df.set_index('date', inplace=True)\n",
    "fig = go.Figure(data=[go.Candlestick(x=df.index,\n",
    "                                     open=df['open'],\n",
    "                                     high=df['high'],\n",
    "                                     low=df['low'],\n",
    "                                     close=df['close'],\n",
    "                                     hoverlabel=dict(bgcolor='white'),\n",
    "                                     name=symbol\n",
    "                                        )])\n",
    "\n",
    "\n",
    "# fig.add_trace(go.Scatter(\n",
    "#     x=df.index, y=df[\"middle\"], line_shape='spline', name=\"Middle\",))\n",
    "fig.add_trace(go.Scatter(\n",
    "    x=df.index, y=df[\"close_10_sma\"], line_shape='spline', name=\"close_10_sma\",))\n",
    "fig.add_trace(go.Scatter(\n",
    "    x=df.index, y=df[\"close_50_sma\"], line_shape='spline', name=\"close_50_sma\",))\n",
    "\n",
    "# fig name\n",
    "fig.update_layout(\n",
    "    title=f\"#{symbol} [last update {dt.datetime.now().strftime('%y/%d/%m %H:%M')}]<br>{' || '.join([f'{k} : {v}' for k,v in handler.get_analysis().summary.items()])}<br>[ open = {df['open'].iloc[-1]:.2f} || high = {df['high'].iloc[-1]:.2f} || low = {df['low'].iloc[-1]:.2f} || close = {df['close'].iloc[-1]:.2f} ]\")\n",
    "# hide bottom range slider\n",
    "fig.update_layout(xaxis_rangeslider_visible=False)\n",
    "\n",
    "# removing all empty dates\n",
    "dt_all = pd.date_range(start=df.index[0],end=df.index[-1])\n",
    "dt_obs = [d.strftime(\"%Y-%m-%d\") for d in pd.to_datetime(df.index)]\n",
    "dt_breaks = [d for d in dt_all.strftime(\"%Y-%m-%d\").tolist() if not d in dt_obs]\n",
    "fig.update_xaxes(rangebreaks=[dict(values=dt_breaks)])\n",
    "\n",
    "if not os.path.exists(\"images\"):\n",
    "    os.mkdir(\"images\")\n",
    "\n",
    "fig.write_image(f\"images/{symbol}-{dt.date.today()}.webp\",format=\"webp\",scale=4)\n",
    "fig.show()\n"
   ]
  }
 ],
 "metadata": {
  "kernelspec": {
   "display_name": "Python 3.9.12 ('atset')",
   "language": "python",
   "name": "python3"
  },
  "language_info": {
   "codemirror_mode": {
    "name": "ipython",
    "version": 3
   },
   "file_extension": ".py",
   "mimetype": "text/x-python",
   "name": "python",
   "nbconvert_exporter": "python",
   "pygments_lexer": "ipython3",
   "version": "3.9.12"
  },
  "orig_nbformat": 4,
  "vscode": {
   "interpreter": {
    "hash": "0022bbecd18d63a9f86ce65548f15c7cdb3ab889053e9aa207becb56c4b0448c"
   }
  }
 },
 "nbformat": 4,
 "nbformat_minor": 2
}
