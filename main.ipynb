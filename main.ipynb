{
 "cells": [
  {
   "cell_type": "markdown",
   "metadata": {},
   "source": [
    "# algorithmic trading bot for Stock Exchange of Thailand\n",
    "\n",
    "#### version 0.0.1\n",
    "\n",
    "#### author: GolfGrab\n",
    "\n",
    "##### please read the README.md file and follow the instructions\n"
   ]
  },
  {
   "cell_type": "code",
   "execution_count": null,
   "metadata": {},
   "outputs": [],
   "source": [
    "%pip install - r requirements.txt"
   ]
  },
  {
   "cell_type": "markdown",
   "metadata": {},
   "source": [
    "### import libraries\n"
   ]
  },
  {
   "cell_type": "code",
   "execution_count": null,
   "metadata": {},
   "outputs": [],
   "source": [
    "import pandas as pd\n",
    "import pandas_ta as ta\n",
    "import numpy as np\n",
    "import plotly.graph_objects as go\n",
    "import settrade.openapi as setapi\n",
    "import datetime\n",
    "import pytz "
   ]
  },
  {
   "cell_type": "markdown",
   "metadata": {},
   "source": [
    "### user settings\n"
   ]
  },
  {
   "cell_type": "code",
   "execution_count": null,
   "metadata": {},
   "outputs": [],
   "source": [
    "investor = setapi.Investor(\n",
    "    app_id=\"Your app ID\",                                       # Your app ID\n",
    "    app_secret=\"Your app Secret\",                               # Your app Secret\n",
    "    broker_id=\"SANDBOX\",                                        # Your broker ID\n",
    "    app_code=\"SANDBOX\",                                         # Your app code\n",
    "    is_auto_queue=True,                                         # Auto queue or not\n",
    ")\n",
    "\n",
    "# Your equity ID\n",
    "equity = investor.Equity(\"GolfGrab-E\")\n",
    "# Your derivative ID\n",
    "derivative = investor.Derivatives(\"GolfGrab-D\")\n",
    "\n",
    "market = investor.MarketData()\n",
    "\n",
    "# equity.get_account_info()\n",
    "# derivative.get_account_info()\n"
   ]
  },
  {
   "cell_type": "markdown",
   "metadata": {},
   "source": [
    "# get data from SET api and show the data with plotly"
   ]
  },
  {
   "cell_type": "code",
   "execution_count": null,
   "metadata": {},
   "outputs": [],
   "source": [
    "zone = pytz.timezone('Asia/Bangkok')\n",
    "# symbol of the stock\n",
    "symbol = \".SET\"\n",
    "# interval of the stock\n",
    "interval = \"60m\"\n",
    "# limit of the stock data to be fetched\n",
    "limit = 125\n",
    "# start date of the stock data to be fetched\n",
    "start = datetime.datetime(year=2022, month=1, day=1,tzinfo=zone).isoformat()\n",
    "# end date of the stock data to be fetched\n",
    "end = datetime.datetime(year=2022, month=7, day=1,tzinfo=zone).isoformat()\n",
    "# normalize the stock data or not\n",
    "normalize = True\n"
   ]
  },
  {
   "cell_type": "code",
   "execution_count": null,
   "metadata": {},
   "outputs": [],
   "source": [
    "data = market.get_candlestick(symbol, interval, limit, start, end, normalize)\n",
    "df = pd.DataFrame.from_dict(data = data['data'])\n",
    "df = df.drop(columns=[\"last_sequence\",])\n",
    "df['time'] = pd.to_datetime(df['time'],unit='s',utc=True).map(lambda x: x.tz_convert(zone))\n",
    "\n",
    "\n",
    "print(len(df))\n",
    "fig = go.Figure(data=[go.Candlestick(x=df['time'],\n",
    "                open=df['open'],\n",
    "                high=df['high'],\n",
    "                low=df['low'],\n",
    "                close=df['close'])])\n",
    "\n",
    "fig"
   ]
  }
 ],
 "metadata": {
  "kernelspec": {
   "display_name": "Python 3.9.12 ('atset')",
   "language": "python",
   "name": "python3"
  },
  "language_info": {
   "codemirror_mode": {
    "name": "ipython",
    "version": 3
   },
   "file_extension": ".py",
   "mimetype": "text/x-python",
   "name": "python",
   "nbconvert_exporter": "python",
   "pygments_lexer": "ipython3",
   "version": "3.9.12"
  },
  "orig_nbformat": 4,
  "vscode": {
   "interpreter": {
    "hash": "0022bbecd18d63a9f86ce65548f15c7cdb3ab889053e9aa207becb56c4b0448c"
   }
  }
 },
 "nbformat": 4,
 "nbformat_minor": 2
}
